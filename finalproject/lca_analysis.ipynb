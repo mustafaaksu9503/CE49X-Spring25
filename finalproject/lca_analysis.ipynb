{
 "cells": [
  {
   "cell_type": "markdown",
   "metadata": {},
   "source": [
    "## 0. Introduction\n",
    "\n",
    "This LCA Tool can take a dataset of products & environmental impacts from them through their lifecycle, analyze this dataset and can create meaningful calculations and visualizations."
   ]
  },
  {
   "cell_type": "markdown",
   "metadata": {},
   "source": [
    "# 1. Libraries Used & Setup\n",
    "\n",
    "First, we import sys to access the src file in the repo.\n",
    "Then we import pandas and matplotlib to use throughout the tool."
   ]
  },
  {
   "cell_type": "code",
   "execution_count": 1,
   "metadata": {},
   "outputs": [],
   "source": [
    "import sys\n",
    "sys.path.append('..')\n",
    "\n",
    "import pandas as pd\n",
    "import matplotlib.pyplot as plt\n",
    "from src.data_input import DataInput\n",
    "from src.calculations import LCACalculator\n",
    "from src.visualization import LCAVisualizer"
   ]
  },
  {
   "cell_type": "markdown",
   "metadata": {},
   "source": [
    "# 2. Data Input  \n",
    "\n",
    "The data input script reads both the product and impact factors datasets."
   ]
  },
  {
   "cell_type": "code",
   "execution_count": null,
   "metadata": {},
   "outputs": [],
   "source": [
    "data_input = DataInput()\n",
    "\n",
    "#Loading the product data\n",
    "product_data = data_input.read_data('../data/raw/sample_data.csv')\n",
    "print(\"Product Data Shape:\", product_data.shape)\n",
    "product_data.head()"
   ]
  },
  {
   "cell_type": "code",
   "execution_count": null,
   "metadata": {},
   "outputs": [],
   "source": [
    "#Loading the impact factors\n",
    "impact_factors = data_input.read_impact_factors('../data/raw/impact_factors.json')\n",
    "print(\"Available Materials:\", list(impact_factors.keys()))\n",
    "print(\"\\nImpact Factors for Wood:\")\n",
    "pd.DataFrame(impact_factors['wood'])"
   ]
  },
  {
   "cell_type": "markdown",
   "metadata": {},
   "source": [
    "# 3. Calculations\n",
    "\n",
    "The calculations script can calculate the impacts for products for each stage and also can calculate the total impacts through it's life-cycle. It can also normalize impact factors and compare different products."
   ]
  },
  {
   "cell_type": "code",
   "execution_count": null,
   "metadata": {},
   "outputs": [],
   "source": [
    "calculator = LCACalculator(impact_factors_path='../data/raw/impact_factors.json')\n",
    "\n",
    "#Calculating impacts\n",
    "impacts = calculator.calculate_impacts(product_data)\n",
    "print(\"Calculated Impacts Shape:\", impacts.shape)\n",
    "impacts.head()"
   ]
  },
  {
   "cell_type": "code",
   "execution_count": null,
   "metadata": {},
   "outputs": [],
   "source": [
    "#Calculating the total impacts through it's life-cycle\n",
    "total_impacts = calculator.calculate_total_impacts(impacts)\n",
    "print(\"Total Impacts by Product:\")\n",
    "total_impacts"
   ]
  },
  {
   "cell_type": "code",
   "execution_count": null,
   "metadata": {},
   "outputs": [],
   "source": [
    "#Comparing alternative products\n",
    "comparison = calculator.compare_alternatives(impacts, ['P001', 'P002'])\n",
    "print(\"Product Comparison:\")\n",
    "comparison "
   ]
  },
  {
   "cell_type": "markdown",
   "metadata": {},
   "source": [
    "# 4. Visualization\n",
    "\n",
    "Visualization script creates 5 different plots serving different purposes, \n",
    "1. Carbon Impact Breakdown by Material Plot\n",
    "2. Impacts of a material through its lifecycle Plot\n",
    "3. Product Comparison Radar Chart\n",
    "4. End of Life Breakdown Plot \n",
    "5. Impact Category Correlation Plot "
   ]
  },
  {
   "cell_type": "code",
   "execution_count": 9,
   "metadata": {},
   "outputs": [],
   "source": [
    "visualizer = LCAVisualizer()"
   ]
  },
  {
   "cell_type": "code",
   "execution_count": null,
   "metadata": {},
   "outputs": [],
   "source": [
    "#Carbon Impact Breakdown by Material Plot\n",
    "fig = visualizer.plot_impact_breakdown(impacts, 'carbon_impact', 'material_type')\n",
    "plt.show()"
   ]
  },
  {
   "cell_type": "code",
   "execution_count": null,
   "metadata": {},
   "outputs": [],
   "source": [
    "#Impacts of a material through its lifecycle Plot\n",
    "fig = visualizer.plot_life_cycle_impacts(impacts, 'P001')\n",
    "plt.show()"
   ]
  },
  {
   "cell_type": "code",
   "execution_count": null,
   "metadata": {},
   "outputs": [],
   "source": [
    "#Product Comparison Radar Chart\n",
    "fig = visualizer.plot_product_comparison(impacts, ['P001', 'P002'])\n",
    "plt.show()"
   ]
  },
  {
   "cell_type": "code",
   "execution_count": null,
   "metadata": {},
   "outputs": [],
   "source": [
    "#End of Life Breakdown Plot\n",
    "fig = visualizer.plot_end_of_life_breakdown(impacts, 'P001')\n",
    "plt.show()"
   ]
  },
  {
   "cell_type": "code",
   "execution_count": null,
   "metadata": {},
   "outputs": [],
   "source": [
    "#Impact Category Correlation Plot\n",
    "fig = visualizer.plot_impact_correlation(impacts)\n",
    "plt.show()"
   ]
  }
 ],
 "metadata": {
  "kernelspec": {
   "display_name": "base",
   "language": "python",
   "name": "python3"
  },
  "language_info": {
   "codemirror_mode": {
    "name": "ipython",
    "version": 3
   },
   "file_extension": ".py",
   "mimetype": "text/x-python",
   "name": "python",
   "nbconvert_exporter": "python",
   "pygments_lexer": "ipython3",
   "version": "3.8.8"
  }
 },
 "nbformat": 4,
 "nbformat_minor": 2
}
